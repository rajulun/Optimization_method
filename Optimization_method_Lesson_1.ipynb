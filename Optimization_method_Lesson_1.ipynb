{
  "nbformat": 4,
  "nbformat_minor": 0,
  "metadata": {
    "colab": {
      "name": "Optimization method. Lesson 1",
      "provenance": [],
      "collapsed_sections": [],
      "toc_visible": true
    },
    "kernelspec": {
      "name": "python3",
      "display_name": "Python 3"
    }
  },
  "cells": [
    {
      "cell_type": "markdown",
      "metadata": {
        "colab_type": "text",
        "id": "jsS6iR1b4YIF"
      },
      "source": [
        "В проектируемой локальной сети есть заданное количество компьютеров.\n",
        "Есть расстояния от каждого компьютера до сервера и до остальных компьютеров. Маршрутизаторы соединяются с сервером через оптоволокно стоимостью 12 р/м, а компьютеры - с маршрутизаторами соединяются через витую пару стоимостью 30 р/м.\n",
        "Каждый маршрутизатор имеет 8 портов для витой пары и один оптический порт.\n",
        "Сервер имеет неограниченное число оптических портов и портов для витой пары. Компьютер может соединяться с сервером напрямую или через маршрутизатор.\n",
        "1. Построить ЦФ для расчёта стоимости оборудования ЛВС в общем виде. Учесть стоимость маршрутизатора, обоснованность его установки.\n",
        "2. Построить поверхность стоимости от сумм расстояний для конкретного примера. Количество компьютеров — больше двух, располагаются не на одной линии в одной четверти относительно сервера.*\n"
      ]
    },
    {
      "cell_type": "markdown",
      "metadata": {
        "id": "lfp8NyfS_Hh2",
        "colab_type": "text"
      },
      "source": [
        "## Задание №1. Построить ЦФ для расчёта стоимости оборудования ЛВС в общем виде. Учесть стоимость маршрутизатора, обоснованность его установки."
      ]
    },
    {
      "cell_type": "code",
      "metadata": {
        "id": "ZfYkHTH74cdH",
        "colab_type": "code",
        "colab": {}
      },
      "source": [
        "import random\n",
        "import numpy as np\n",
        "import math\n",
        "import matplotlib.pyplot as plt"
      ],
      "execution_count": 1,
      "outputs": []
    },
    {
      "cell_type": "code",
      "metadata": {
        "id": "xQTjk1974cab",
        "colab_type": "code",
        "colab": {}
      },
      "source": [
        ""
      ],
      "execution_count": 1,
      "outputs": []
    },
    {
      "cell_type": "code",
      "metadata": {
        "id": "nIOn2HnI4cV6",
        "colab_type": "code",
        "colab": {}
      },
      "source": [
        "comp_pcs = 7                                            #всего компьютеров\n",
        "distance_comp_server = []                               #расстояния от компьютеров до сервера в виде массива\n",
        "distance_comp_comp = []                                 #расстояния между компьютерами в виде массива\n",
        "distance_switch_server = []                             #расстояния от маршрутизаторов до сервера в виде массива\n",
        "distance_comp_switch = []                               #расстояния от компьютеров до маршрутизатора в виде массива\n",
        "optical_cable_cost = 12                                 #стоимость оптоволокна\n",
        "utp_cable_cost = 30                                     #стоимость витой пары\n",
        "switch_ports_utp = 8                                    #количество портов rj45 в маршрутизаторе\n",
        "switch_ports_optical = 1                                #количество оптических портов в маршрутизаторе\n",
        "switch_cost = 2800                                      #стоимость маршрутизатора\n",
        "switch_pcs = math.ceil(comp_pcs / switch_ports_utp)     #рассчет необходимого количества маршрутизаторов\n",
        "\n"
      ],
      "execution_count": 2,
      "outputs": []
    },
    {
      "cell_type": "markdown",
      "metadata": {
        "id": "o--q8zbQ4ciW",
        "colab_type": "text"
      },
      "source": [
        "$$TF1 = cu \\cdot \\sum_{i=1}^{n} lcsr_i$$\n",
        "\n",
        "$$TF2 = (cu \\cdot \\sum_{i=1}^{n}lcsw_i) + (spcs \\cdot cs) + (co \\cdot \\sum_{i=1}^{n}lcsw_i)$$\n",
        "\n",
        "$$TF = min(cu \\cdot \\sum_{i=1}^{n} lcsr_i, (cu \\cdot \\sum_{i=1}^{n}lcsw_i) + (spcs \\cdot cs) + (co \\cdot \\sum_{i=1}^{n}lswsr_i))$$\n",
        "\n",
        "\n",
        "n - колличество компьютеров\n",
        "\n",
        "cu - стоимость витой пары (руб./м)\n",
        "\n",
        "co - стоимость оптоволокна (руб./м)\n",
        "\n",
        "cs - стоимость одного маршрутизатора (руб.)\n",
        "\n",
        "spcs - количество маршрутизаторов\n",
        "\n",
        "ppcs - количество портов в маршрутизаторе\n",
        "\n",
        "$lcsr_i$ - массив расстояний от компьютеров до сервера (м.)\n",
        "\n",
        "$lcsw_i$ - массив расстояний от компьютеров до маршрутизатора (м.)\n",
        "\n",
        "$lswsr_i$ - массив расстояний от маршрутизаторов до сервера (м.)"
      ]
    },
    {
      "cell_type": "markdown",
      "metadata": {
        "id": "6kQ0PSiZcx0G",
        "colab_type": "text"
      },
      "source": [
        "## Заполним случайными числами расстояния между компьютерами и сервером"
      ]
    },
    {
      "cell_type": "code",
      "metadata": {
        "id": "KyI7y2CJ4cLt",
        "colab_type": "code",
        "colab": {
          "base_uri": "https://localhost:8080/",
          "height": 35
        },
        "outputId": "9052940b-1a7b-4544-f273-83d7c1d98c55"
      },
      "source": [
        "distance_comp_server = [random.randint(70, 140) for i in range(comp_pcs)]\n",
        "\n",
        "print(distance_comp_server)"
      ],
      "execution_count": 3,
      "outputs": [
        {
          "output_type": "stream",
          "text": [
            "[90, 123, 132, 110, 138, 120, 136]\n"
          ],
          "name": "stdout"
        }
      ]
    },
    {
      "cell_type": "markdown",
      "metadata": {
        "id": "rLXIG5zZc11i",
        "colab_type": "text"
      },
      "source": [
        "## Заполним случайными числами расстояния между компьютерами  и маршрутизатором"
      ]
    },
    {
      "cell_type": "code",
      "metadata": {
        "id": "UO1-9-vb4cAP",
        "colab_type": "code",
        "colab": {
          "base_uri": "https://localhost:8080/",
          "height": 35
        },
        "outputId": "2c053529-9197-4ebb-ac7e-5682b4014b6f"
      },
      "source": [
        "#distance_comp_switch = [[random.randint(5, 20) for j in range(comp_pcs)] for i in range(comp_pcs)]\n",
        "distance_comp_switch = [random.randint(5, 20) for i in range(comp_pcs)]\n",
        "print(distance_comp_switch)"
      ],
      "execution_count": 4,
      "outputs": [
        {
          "output_type": "stream",
          "text": [
            "[16, 9, 16, 10, 14, 10, 16]\n"
          ],
          "name": "stdout"
        }
      ]
    },
    {
      "cell_type": "markdown",
      "metadata": {
        "id": "nuD-oSxzdHRs",
        "colab_type": "text"
      },
      "source": [
        "## Заполним случайными числами расстояния между маршрутизатором и сервером\n",
        "Из диапазона от минимального до среднего значения массива distance_comp_server"
      ]
    },
    {
      "cell_type": "code",
      "metadata": {
        "id": "3Csoscg1dUqH",
        "colab_type": "code",
        "colab": {
          "base_uri": "https://localhost:8080/",
          "height": 35
        },
        "outputId": "72c6518b-6d25-487b-b1bf-37fb10c499a9"
      },
      "source": [
        "distance_switch_server = [random.randint(min(distance_comp_server), math.ceil(np.mean(distance_comp_server))) for i in range(switch_pcs)]\n",
        "\n",
        "print(distance_switch_server)"
      ],
      "execution_count": 5,
      "outputs": [
        {
          "output_type": "stream",
          "text": [
            "[94]\n"
          ],
          "name": "stdout"
        }
      ]
    },
    {
      "cell_type": "markdown",
      "metadata": {
        "id": "Q1Ih37D4bCA5",
        "colab_type": "text"
      },
      "source": [
        "## Рассчитаем стоимость расходов без маршрутизатора\n",
        "Общяя длина кабеля (витая пара) от компьютеров до сервера"
      ]
    },
    {
      "cell_type": "code",
      "metadata": {
        "id": "qovnNvOBIkMb",
        "colab_type": "code",
        "colab": {
          "base_uri": "https://localhost:8080/",
          "height": 35
        },
        "outputId": "2e32131b-fbb5-4639-c481-d95b9ad48bc9"
      },
      "source": [
        "cable_length_comp_serv = sum(distance_comp_server)\n",
        "print('Общяя длина кабеля (витая пара) составляет: %s м.' %cable_length_comp_serv)"
      ],
      "execution_count": 6,
      "outputs": [
        {
          "output_type": "stream",
          "text": [
            "Общяя длина кабеля (витая пара) составляет: 849 м.\n"
          ],
          "name": "stdout"
        }
      ]
    },
    {
      "cell_type": "markdown",
      "metadata": {
        "id": "ae_8hmyvbamb",
        "colab_type": "text"
      },
      "source": [
        "Стоимость этого кабеля"
      ]
    },
    {
      "cell_type": "code",
      "metadata": {
        "id": "T3tf-dOY4bv5",
        "colab_type": "code",
        "colab": {
          "base_uri": "https://localhost:8080/",
          "height": 35
        },
        "outputId": "7ea2dfb6-9f88-4ca8-f12d-af8fdb5ad750"
      },
      "source": [
        "cable_cost_comp_serv = cable_length_comp_serv * utp_cable_cost\n",
        "print('Общяя стоимость кабеля (витая пара) составляет: %s руб.' %cable_cost_comp_serv)"
      ],
      "execution_count": 7,
      "outputs": [
        {
          "output_type": "stream",
          "text": [
            "Общяя стоимость кабеля (витая пара) составляет: 25470 руб.\n"
          ],
          "name": "stdout"
        }
      ]
    },
    {
      "cell_type": "code",
      "metadata": {
        "id": "6DAdoi38HUQ8",
        "colab_type": "code",
        "colab": {
          "base_uri": "https://localhost:8080/",
          "height": 35
        },
        "outputId": "ecff0b51-9a1d-430c-e214-d7d7b2e5c4b8"
      },
      "source": [
        "TF1 = sum(distance_comp_server) * utp_cable_cost\n",
        "print('TF1 =  %s' %TF1)"
      ],
      "execution_count": 8,
      "outputs": [
        {
          "output_type": "stream",
          "text": [
            "TF1 =  25470\n"
          ],
          "name": "stdout"
        }
      ]
    },
    {
      "cell_type": "markdown",
      "metadata": {
        "id": "A46k9LhIiqsQ",
        "colab_type": "text"
      },
      "source": [
        "## Рассчитаем стоимость расходов с маршрутизатором\n",
        "Общяя длина кабеля (витая пара) от компьютеров до сервера"
      ]
    },
    {
      "cell_type": "code",
      "metadata": {
        "id": "XedPOZPG34Uf",
        "colab_type": "code",
        "colab": {
          "base_uri": "https://localhost:8080/",
          "height": 35
        },
        "outputId": "190a0f36-4a61-4605-a294-bfae7befd81c"
      },
      "source": [
        "cable_length_comp_switch = sum(distance_comp_switch)\n",
        "print('Общяя длина кабеля (витая пара) составляет: %s м.' %cable_length_comp_switch)"
      ],
      "execution_count": 9,
      "outputs": [
        {
          "output_type": "stream",
          "text": [
            "Общяя длина кабеля (витая пара) составляет: 91 м.\n"
          ],
          "name": "stdout"
        }
      ]
    },
    {
      "cell_type": "markdown",
      "metadata": {
        "id": "yfhE-jjPk2iM",
        "colab_type": "text"
      },
      "source": [
        "Стоимость этого кабеля"
      ]
    },
    {
      "cell_type": "code",
      "metadata": {
        "id": "Uq5L_ZoHk1NT",
        "colab_type": "code",
        "colab": {
          "base_uri": "https://localhost:8080/",
          "height": 35
        },
        "outputId": "974a46ff-2103-46b5-cb6f-709cdfcc1abe"
      },
      "source": [
        "cable_cost_comp_switch = cable_length_comp_switch * utp_cable_cost\n",
        "print('Общяя стоимость кабеля (витая пара) составляет: %s руб.' %cable_cost_comp_switch)"
      ],
      "execution_count": 10,
      "outputs": [
        {
          "output_type": "stream",
          "text": [
            "Общяя стоимость кабеля (витая пара) составляет: 2730 руб.\n"
          ],
          "name": "stdout"
        }
      ]
    },
    {
      "cell_type": "markdown",
      "metadata": {
        "id": "6ZdaAN0UmW_i",
        "colab_type": "text"
      },
      "source": [
        "Стоимость маршрутизатора(ов)\n"
      ]
    },
    {
      "cell_type": "code",
      "metadata": {
        "id": "la2NJ4Ebk1H_",
        "colab_type": "code",
        "colab": {
          "base_uri": "https://localhost:8080/",
          "height": 35
        },
        "outputId": "ee039526-29ec-4a2b-f500-85dc0a2ad71e"
      },
      "source": [
        "all_switch_cost = switch_cost * switch_pcs\n",
        "print('Общяя стоимость маршрутизатора(ов) составляет: %s руб.' %all_switch_cost)"
      ],
      "execution_count": 11,
      "outputs": [
        {
          "output_type": "stream",
          "text": [
            "Общяя стоимость маршрутизатора(ов) составляет: 2800 руб.\n"
          ],
          "name": "stdout"
        }
      ]
    },
    {
      "cell_type": "markdown",
      "metadata": {
        "id": "gdTlGGband-6",
        "colab_type": "text"
      },
      "source": [
        "Общяя длина кабеля (оптоволокно) кабеля от маршрутизаторов до сервера "
      ]
    },
    {
      "cell_type": "code",
      "metadata": {
        "id": "tnYYXJDBndl6",
        "colab_type": "code",
        "colab": {
          "base_uri": "https://localhost:8080/",
          "height": 35
        },
        "outputId": "cd0a855e-014e-4881-875a-76f00fecdc81"
      },
      "source": [
        "cable_length_switch_server = sum(distance_switch_server)\n",
        "print('Общяя длина кабеля (оптоволокно) составляет: %s м.' %cable_length_switch_server)"
      ],
      "execution_count": 12,
      "outputs": [
        {
          "output_type": "stream",
          "text": [
            "Общяя длина кабеля (оптоволокно) составляет: 94 м.\n"
          ],
          "name": "stdout"
        }
      ]
    },
    {
      "cell_type": "markdown",
      "metadata": {
        "id": "KZJ_i2uJnAE5",
        "colab_type": "text"
      },
      "source": [
        "Стоимость кабеля (оптоволокно) от маршрутизаторов до сервера "
      ]
    },
    {
      "cell_type": "code",
      "metadata": {
        "id": "9ziYjqNdjZQ6",
        "colab_type": "code",
        "colab": {
          "base_uri": "https://localhost:8080/",
          "height": 35
        },
        "outputId": "a8fe1808-21cd-4f4e-b7e8-1840a7f820ad"
      },
      "source": [
        "cable_cost_switch_serv = cable_length_switch_server * optical_cable_cost\n",
        "print('Общяя стоимость кабеля (оптоволокно) составляет: %s руб.' %cable_cost_switch_serv)"
      ],
      "execution_count": 13,
      "outputs": [
        {
          "output_type": "stream",
          "text": [
            "Общяя стоимость кабеля (оптоволокно) составляет: 1128 руб.\n"
          ],
          "name": "stdout"
        }
      ]
    },
    {
      "cell_type": "code",
      "metadata": {
        "id": "IwNy0wu2Hqft",
        "colab_type": "code",
        "colab": {
          "base_uri": "https://localhost:8080/",
          "height": 35
        },
        "outputId": "5b886044-e383-416a-a8ff-ab6794616058"
      },
      "source": [
        "TF2 = (sum(distance_comp_switch) * utp_cable_cost) + (math.ceil(comp_pcs / switch_ports_utp) * switch_cost ) + (sum(distance_switch_server * optical_cable_cost))\n",
        "print('TF2 =  %s' %TF2)"
      ],
      "execution_count": 14,
      "outputs": [
        {
          "output_type": "stream",
          "text": [
            "TF2 =  6658\n"
          ],
          "name": "stdout"
        }
      ]
    },
    {
      "cell_type": "code",
      "metadata": {
        "id": "nb97kT9XjZKc",
        "colab_type": "code",
        "colab": {
          "base_uri": "https://localhost:8080/",
          "height": 35
        },
        "outputId": "b4938dd7-4b21-4e80-8047-e0a83cad796f"
      },
      "source": [
        "TF = min(TF1, TF2)\n",
        "print('Оптимальной является: %s' %('TF1, модель без маршрутизаторов' if TF == TF1 else \"TF2, модель с маршрутизаторами\"))"
      ],
      "execution_count": 15,
      "outputs": [
        {
          "output_type": "stream",
          "text": [
            "Оптимальной является: TF2, модель с маршрутизаторами\n"
          ],
          "name": "stdout"
        }
      ]
    },
    {
      "cell_type": "code",
      "metadata": {
        "id": "UZ1RMmQcjZHK",
        "colab_type": "code",
        "colab": {}
      },
      "source": [
        ""
      ],
      "execution_count": 15,
      "outputs": []
    },
    {
      "cell_type": "code",
      "metadata": {
        "id": "tDRqV_Z8jZC8",
        "colab_type": "code",
        "colab": {}
      },
      "source": [
        ""
      ],
      "execution_count": 15,
      "outputs": []
    },
    {
      "cell_type": "markdown",
      "metadata": {
        "id": "fllrtdFq_WN5",
        "colab_type": "text"
      },
      "source": [
        "## Задание 2. Построить поверхность стоимости от сумм расстояний для конкретного примера. Количество компьютеров — больше двух, располагаются не на одной линии в одной четверти относительно сервера.*"
      ]
    },
    {
      "cell_type": "code",
      "metadata": {
        "id": "VN5ExPpa_ao3",
        "colab_type": "code",
        "colab": {
          "base_uri": "https://localhost:8080/",
          "height": 279
        },
        "outputId": "f1299231-d5d0-4be2-9bad-6237005d3a74"
      },
      "source": [
        "distance_comp_server_f = np.arange(100, 800, 10)   \n",
        "TF1_f = distance_comp_server_f * utp_cable_cost   \n",
        "TF2_f = distance_comp_server_f * 0.2 * utp_cable_cost + distance_comp_server_f * 0.8 * optical_cable_cost   \n",
        "fig, ax = plt.subplots()                                              \n",
        "ax.plot(distance_comp_server_f, TF1_f)\n",
        "ax.plot(distance_comp_server_f, TF2_f)\n",
        "ax.fill_between(distance_comp_server_f,\n",
        "                TF2_f,\n",
        "                0,\n",
        "                color='b',\n",
        "                alpha=.1)\n",
        "ax.grid()                                                             \n",
        " \n",
        "lgnd = ax.legend(['TF1', 'TF2'], loc='best', shadow=True)\n",
        "lgnd.get_frame().set_facecolor('#ffb19a')\n",
        "\n",
        "ax.set_xlabel('Длина сети (м)')\n",
        "ax.set_ylabel('Стоимость (руб.)')\n",
        " \n",
        "plt.show()                                                          "
      ],
      "execution_count": 16,
      "outputs": [
        {
          "output_type": "display_data",
          "data": {
            "image/png": "[encoded data removed]",
            "text/plain": [
              "<Figure size 432x288 with 1 Axes>"
            ]
          },
          "metadata": {
            "tags": [],
            "needs_background": "light"
          }
        }
      ]
    }
  ]
}