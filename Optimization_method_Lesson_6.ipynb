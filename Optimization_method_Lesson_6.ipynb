{
  "nbformat": 4,
  "nbformat_minor": 0,
  "metadata": {
    "colab": {
      "name": "Optimization_method_Lesson_6",
      "provenance": [],
      "collapsed_sections": []
    },
    "kernelspec": {
      "name": "python3",
      "display_name": "Python 3"
    }
  },
  "cells": [
    {
      "cell_type": "markdown",
      "metadata": {
        "id": "_COitWqMhCOR",
        "colab_type": "text"
      },
      "source": [
        "Урок 6. Методы многокритериальной оптимизации"
      ]
    },
    {
      "cell_type": "markdown",
      "metadata": {
        "id": "e9271kH8hGXQ",
        "colab_type": "text"
      },
      "source": [
        "Практическое задание\n",
        "\n",
        "Для выполнения работ P_1, P_2, P_3 сельскохозяйственное предприятие может приобрести тракторы марок А и B стоимостью соответственно c_1 и c_2 ден. ед. каждый. С использованием новой техники необходимо выполнить не менее b_1 условных единиц работы P_1 не менее b_2 условных единиц работы P_2 и не менее b_3 условных единиц работы P_3. За рассматриваемый промежуток времени с использованием трактора марки A можно выполнить a_11 условных единиц работы P_1, a_21 условных единиц работы P_2 и a_31 условных единиц работы P_3; с использованием трактора марки Б – a_12 условных единиц работы P_1, a_22 условных единиц работы P_2 и a_23 условных единиц работы P_3.\n",
        "\n",
        "Требуется:\n",
        "\n",
        "Составить экономико-математическую модель, позволяющую найти такой вариант приобретения тракторов той или другой марки, при котором будут выполнены все необходимые работы, а затраты на новую технику будут минимальны;\n",
        "Пользуясь методом ветвей и границ, найти оптимальный вариант приобретения тракторов.\n",
        "\n",
        "b_1 = 20, b_2 = 190, b_3 = 88, a_11 = 4, a_21 = 19, a_31=4, a_12 = 1, a_22 = 15, a_32 = 15, c_1= 3, c_2 = 5\n"
      ]
    },
    {
      "cell_type": "markdown",
      "metadata": {
        "id": "bzG3fAGHfDDs",
        "colab_type": "text"
      },
      "source": [
        "Решение:\n",
        "\n",
        "Через $x_1$ и $x_2$ обозначим количество приобретаемого оборудования вида  и  соответственно.\n",
        "\n",
        "Целевая функция, выражающая количество покупаемых тракторов:\n",
        "\n",
        "$f = 3x_1 + 5x_2 $ \n",
        "\n",
        "Ограничения по объёму выполняемых работ:\n",
        "\n",
        "$4x_1 + x_2 >= 20$  \n",
        "$19x_1 + 15x_2 >= 190$  \n",
        "$4x_1 + 15x_2 >= 88$  \n",
        "\n",
        "Количество приобретаемых тракторов не может быть отрицательным числом: $x_1, x_2 >= 0$."
      ]
    },
    {
      "cell_type": "markdown",
      "metadata": {
        "id": "9TxHT1_QyJHE",
        "colab_type": "text"
      },
      "source": [
        "Целевая функция будет иметь следующий вид:\n",
        "\n",
        "$f = 3x_1 + 5x_2 \\rightarrow min$\n",
        "\n",
        "$\\left\\{ \\begin{matrix}\n",
        "4x_1+x_2 >= 20 \\\\\n",
        "19x_1+15x_2 >= 190 \\\\\n",
        "4x_1+15x_2 >= 88\n",
        "\\end{matrix} \\right.$\n",
        "\n",
        "$x_1 >=0, x_2 >=0$"
      ]
    },
    {
      "cell_type": "markdown",
      "metadata": {
        "id": "5YQndtZYyxG_",
        "colab_type": "text"
      },
      "source": [
        "$x_1, x_2$ - целые.  \n",
        "Решим полученную задачу с помощью библиотеки в Python.   \n",
        "Получаем:\n",
        "\n"
      ]
    },
    {
      "cell_type": "code",
      "metadata": {
        "id": "q0FCX7tug3ql",
        "colab_type": "code",
        "colab": {
          "base_uri": "https://localhost:8080/",
          "height": 35
        },
        "outputId": "ddebbb89-9c35-4290-b0ee-3295cf2377c3"
      },
      "source": [
        "import numpy as np\n",
        "\n",
        "A = np.array([[4., 1.], [19., 15.], [4., 15.]])\n",
        "b = np.array([20., 190., 88.])\n",
        "solve = np.linalg.lstsq(A, b, rcond=None)[0]\n",
        "print(solve)"
      ],
      "execution_count": 31,
      "outputs": [
        {
          "output_type": "stream",
          "text": [
            "[6.50467155 4.25691714]\n"
          ],
          "name": "stdout"
        }
      ]
    },
    {
      "cell_type": "code",
      "metadata": {
        "id": "aCbrl7qg8AFe",
        "colab_type": "code",
        "colab": {
          "base_uri": "https://localhost:8080/",
          "height": 35
        },
        "outputId": "f2a4aaf0-fe6a-4c61-d7b7-184096a49e67"
      },
      "source": [
        "4*6+15*4"
      ],
      "execution_count": 32,
      "outputs": [
        {
          "output_type": "execute_result",
          "data": {
            "text/plain": [
              "84"
            ]
          },
          "metadata": {
            "tags": []
          },
          "execution_count": 32
        }
      ]
    },
    {
      "cell_type": "markdown",
      "metadata": {
        "id": "XNEBrf5wJgvi",
        "colab_type": "text"
      },
      "source": [
        "$x_1 = 6, x_2 = 4$ не подходит, так как третье условие не соблюдается   \n",
        "Увеличим $x_1$, так как $x_1$ дешевле $x_2$ (наша цель минимизировать целевую переменную)"
      ]
    },
    {
      "cell_type": "code",
      "metadata": {
        "id": "0G6chplz65PA",
        "colab_type": "code",
        "colab": {
          "base_uri": "https://localhost:8080/",
          "height": 35
        },
        "outputId": "dcc61879-5b4a-40be-fe5b-69ee093c3848"
      },
      "source": [
        "4*7+15*4>=88"
      ],
      "execution_count": 37,
      "outputs": [
        {
          "output_type": "execute_result",
          "data": {
            "text/plain": [
              "True"
            ]
          },
          "metadata": {
            "tags": []
          },
          "execution_count": 37
        }
      ]
    },
    {
      "cell_type": "code",
      "metadata": {
        "id": "Mguz8ofsKTIB",
        "colab_type": "code",
        "colab": {
          "base_uri": "https://localhost:8080/",
          "height": 35
        },
        "outputId": "f2d575d3-70fa-4aa3-aa91-a7bd018d9de7"
      },
      "source": [
        "4*7+1*4 >=20"
      ],
      "execution_count": 36,
      "outputs": [
        {
          "output_type": "execute_result",
          "data": {
            "text/plain": [
              "True"
            ]
          },
          "metadata": {
            "tags": []
          },
          "execution_count": 36
        }
      ]
    },
    {
      "cell_type": "code",
      "metadata": {
        "id": "XoOrXK1wKS6m",
        "colab_type": "code",
        "colab": {
          "base_uri": "https://localhost:8080/",
          "height": 35
        },
        "outputId": "6e5790ca-b1ff-486a-ac65-b4297c4a2075"
      },
      "source": [
        "19*7+15*4>=190"
      ],
      "execution_count": 38,
      "outputs": [
        {
          "output_type": "execute_result",
          "data": {
            "text/plain": [
              "True"
            ]
          },
          "metadata": {
            "tags": []
          },
          "execution_count": 38
        }
      ]
    },
    {
      "cell_type": "code",
      "metadata": {
        "id": "ExLuUgvOKzlJ",
        "colab_type": "code",
        "colab": {
          "base_uri": "https://localhost:8080/",
          "height": 35
        },
        "outputId": "3ad6abbb-bdf5-4107-c4ea-b3179190ee1f"
      },
      "source": [
        "3*7+5*4"
      ],
      "execution_count": 39,
      "outputs": [
        {
          "output_type": "execute_result",
          "data": {
            "text/plain": [
              "41"
            ]
          },
          "metadata": {
            "tags": []
          },
          "execution_count": 39
        }
      ]
    },
    {
      "cell_type": "markdown",
      "metadata": {
        "id": "0v4BxGGQK9wo",
        "colab_type": "text"
      },
      "source": [
        "Оптимальней всего будет приобрести 7 тракторов марки А и 4 трактора марки В,   на что у нас уйдет 41 денежная единица"
      ]
    }
  ]
}