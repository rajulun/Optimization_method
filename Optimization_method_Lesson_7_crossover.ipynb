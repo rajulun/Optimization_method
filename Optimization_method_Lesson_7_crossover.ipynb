{
  "nbformat": 4,
  "nbformat_minor": 0,
  "metadata": {
    "colab": {
      "name": "Optimization_method_Lesson_7_crossover.ipynb",
      "provenance": [],
      "collapsed_sections": []
    },
    "kernelspec": {
      "name": "python3",
      "display_name": "Python 3"
    }
  },
  "cells": [
    {
      "cell_type": "code",
      "metadata": {
        "id": "P0b5zs0fF3JE",
        "colab_type": "code",
        "colab": {}
      },
      "source": [
        ""
      ],
      "execution_count": null,
      "outputs": []
    },
    {
      "cell_type": "markdown",
      "metadata": {
        "id": "-naQZ34Dacv-",
        "colab_type": "text"
      },
      "source": [
        "## Crossover Целая арифметическая рекомбинация\n",
        "\n",
        " Целая арифметическая рекомбинация\n",
        "\n",
        "Это обычно используется для целочисленных представлений и работает, взяв средневзвешенное значение двух родителей, используя следующие формулы:\n",
        "\n",
        "    Child1 = α*x + (1-α)*y\n",
        "    Child2 = α*x + (1-α)*y\n"
      ]
    },
    {
      "cell_type": "code",
      "metadata": {
        "id": "yuhmROiBapKq",
        "colab_type": "code",
        "colab": {}
      },
      "source": [
        "def ca_recombination(parents, children_size):\n",
        "\n",
        "    # определяем коэффициент а\n",
        "    a = random.randint(0, 100)/100\n",
        "    children = np.empty(children_size)\n",
        "\n",
        "    # попарно родителей загоняя в цикл, \"кроссируем\" ))\n",
        "    for i in range(0, parents.shape[0], 2):\n",
        "        children[i] = parents[i] * a + parents[i+1] * (1 - a)\n",
        "        children[i+1] = parents[i + 1] * a + parents[i] * (1 - a)\n",
        "\n",
        "    return children"
      ],
      "execution_count": null,
      "outputs": []
    },
    {
      "cell_type": "markdown",
      "metadata": {
        "id": "DJIS97Xhjzrl",
        "colab_type": "text"
      },
      "source": [
        "## Crossover OX1\n",
        "\n",
        " Кроссовер Ордена Дэвиса (OX1)\n",
        "\n",
        "OX1 используется для кроссоверов на основе перестановок с целью передачи информации об относительном упорядочении выходным источникам. Это работает следующим образом —\n",
        "\n",
        "  \n",
        "\n",
        "1.   Создайте две случайные точки пересечения в родительском элементе и скопируйте сегмент между ними от первого родительского элемента к первому потомству.\n",
        "2.   Теперь, начиная со второй точки пересечения во втором родительском элементе, скопируйте оставшиеся неиспользуемые числа от второго родительского элемента к первому дочернему элементу, оборачивая список.\n",
        "3.   Теперь, начиная со второй точки пересечения во втором родительском элементе, скопируйте оставшиеся неиспользуемые числа от второго родительского элемента к первому дочернему элементу, оборачивая список.\n",
        "\n",
        "Повторите эти действия для второго ребенка с перевернутой ролью родителя.\n"
      ]
    },
    {
      "cell_type": "code",
      "metadata": {
        "id": "RZBBBvBkjyf_",
        "colab_type": "code",
        "colab": {}
      },
      "source": [
        "def crossover_ox1(parents, children_size):\n",
        "    # Создадим две случайные точки, одну в первой половине, другую во второй половине\n",
        "    a = np.random.randint(1, parents.shape[1]/2)\n",
        "    b = np.random.randint(parents.shape[1]/2, parents.shape[1] - 1)\n",
        "    children = np.empty(children_size)\n",
        "\n",
        "    # попарно родителей загоняем в цикл и \"кроссируем\" ))\n",
        "    for i in range(0, parents.shape[0], 2):\n",
        "      children[i, 0:a], children[i, a+1:b+1], children[i, b+1:] = parents[i+1, 0:a], parents[i, a+1:b+1], parents[i+1, b+1:]\n",
        "      children[i+1, 0:a], children[i+1, a+1:b+1], children[i+1, b+1:] = parents[i, 0:a], parents[i+1, a+1:b+1], parents[i, b+1:]\n",
        "\n",
        "    return children"
      ],
      "execution_count": null,
      "outputs": []
    }
  ]
}